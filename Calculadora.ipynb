{
  "nbformat": 4,
  "nbformat_minor": 0,
  "metadata": {
    "colab": {
      "provenance": [],
      "include_colab_link": true
    },
    "kernelspec": {
      "name": "python3",
      "display_name": "Python 3"
    },
    "language_info": {
      "name": "python"
    }
  },
  "cells": [
    {
      "cell_type": "markdown",
      "metadata": {
        "id": "view-in-github",
        "colab_type": "text"
      },
      "source": [
        "<a href=\"https://colab.research.google.com/github/sarahferraz/phyton-projects/blob/main/Calculadora.ipynb\" target=\"_parent\"><img src=\"https://colab.research.google.com/assets/colab-badge.svg\" alt=\"Open In Colab\"/></a>"
      ]
    },
    {
      "cell_type": "markdown",
      "source": [
        "__Orientações Projeto Final:__\n",
        "\n",
        "* A calculadora deve oferecer as operações de soma, subtração, multiplicação e divisão;\n",
        "\n",
        "* Desafio extra: a calculadora também deve oferecer a função de porcentagem, ou seja, permitirá que o usuário informe 02 dados: o número a qual deseja saber a porcentagem dele e o valor da porcentagem a ser calculada do primeiro número informado.\n",
        "\n",
        "* A escolha da operação e números a serem utilizados deverão ser informados pelo usuário através de input();\n",
        "\n",
        "* Manter o código abaixo em estrutura de classe, complementando com a proposta da atividade;\n",
        "\n",
        "* Tudo que vimos nas aulas são suficientes para criar a calculadora;\n",
        "\n",
        "* Criatividade no código e layout (resultado no terminal – melhorar os textos, deixando mais intuitivos);\n",
        "\n",
        "* Apresentação da calculadora criada no último dia."
      ],
      "metadata": {
        "id": "y0zj0FiuxU0I"
      }
    },
    {
      "cell_type": "code",
      "source": [
        "class Calculadora:\n",
        "    def __init__(self):\n",
        "        self.operacoes = {\n",
        "            '+': self.soma,\n",
        "            '-': self.subtracao,\n",
        "            '*': self.multiplicacao,\n",
        "            '/': self.divisao\n",
        "        }\n",
        "\n",
        "    def soma(self, x, y):\n",
        "        return x + y\n",
        "\n",
        "    def subtracao(self, x, y):\n",
        "        return x - y\n",
        "\n",
        "    def multiplicacao(self, x, y):\n",
        "        return x * y\n",
        "\n",
        "    def divisao(self, x, y):\n",
        "        if y != 0:\n",
        "            return x / y\n",
        "        else:\n",
        "            return \"Erro: Divisão por zero!\"\n",
        "\n",
        "    def run(self):\n",
        "        print(\"Bem-vindo(a) à Calculadora!\")\n",
        "        while True:\n",
        "            print(\"\\nEscolha uma operação:\")\n",
        "            for op in self.operacoes.keys():\n",
        "                print(op, end=' ')\n",
        "            print()\n",
        "            operacao = input()\n",
        "\n",
        "            if operacao not in self.operacoes:\n",
        "                print(\"Operação inválida.\")\n",
        "                continue\n",
        "\n",
        "            try:\n",
        "                num1 = float(input(\"Digite o primeiro número: \"))\n",
        "                num2 = float(input(\"Digite o segundo número: \"))\n",
        "\n",
        "                result = self.operacoes[operacao](num1, num2)\n",
        "                print(\"Resultado:\", result)\n",
        "            except ValueError:\n",
        "                print(\"Entrada inválida. Certifique-se de inserir números válidos.\")\n",
        "\n",
        "            again = input(\"Deseja fazer outra operação? (s/n): \")\n",
        "            if again.lower() != 's':\n",
        "                print(\"Obrigada por usar a calculadora!\")\n",
        "                break\n",
        "\n",
        "\n",
        "# Instanciar e executar a calculadora\n",
        "calc = Calculadora()\n",
        "calc.run()\n",
        "\n"
      ],
      "metadata": {
        "id": "HzWAogukrNmv",
        "colab": {
          "base_uri": "https://localhost:8080/"
        },
        "outputId": "ba0b1fa7-7ad0-4fb1-fbed-68f2a216b254"
      },
      "execution_count": 1,
      "outputs": [
        {
          "output_type": "stream",
          "name": "stdout",
          "text": [
            "Bem-vindo(a) à Calculadora!\n",
            "\n",
            "Escolha uma operação:\n",
            "+ - * / \n",
            "+\n",
            "Digite o primeiro número: 2\n",
            "Digite o segundo número: 4\n",
            "Resultado: 6.0\n",
            "Deseja fazer outra operação? (s/n): n\n",
            "Obrigada por usar a calculadora!\n"
          ]
        }
      ]
    }
  ]
}